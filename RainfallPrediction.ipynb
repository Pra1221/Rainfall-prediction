{
  "nbformat": 4,
  "nbformat_minor": 0,
  "metadata": {
    "colab": {
      "provenance": [],
      "authorship_tag": "ABX9TyP9h01AmYeDGzJdJx/2+eWG",
      "include_colab_link": true
    },
    "kernelspec": {
      "name": "python3",
      "display_name": "Python 3"
    },
    "language_info": {
      "name": "python"
    }
  },
  "cells": [
    {
      "cell_type": "markdown",
      "metadata": {
        "id": "view-in-github",
        "colab_type": "text"
      },
      "source": [
        "<a href=\"https://colab.research.google.com/github/Pra1221/Rainfall-prediction/blob/main/RainfallPrediction.ipynb\" target=\"_parent\"><img src=\"https://colab.research.google.com/assets/colab-badge.svg\" alt=\"Open In Colab\"/></a>"
      ]
    },
    {
      "cell_type": "code",
      "execution_count": 43,
      "metadata": {
        "id": "_uSi_sgZC8mj"
      },
      "outputs": [],
      "source": [
        "import pandas as pd\n",
        "import numpy as np\n",
        "import joblib\n",
        "from sklearn.model_selection import train_test_split\n",
        "from sklearn.linear_model import LinearRegression\n",
        "from sklearn.ensemble import RandomForestRegressor\n",
        "from xgboost import XGBRegressor\n",
        "from sklearn.preprocessing import StandardScaler\n",
        "from sklearn.metrics import mean_absolute_error, mean_squared_error, r2_score\n",
        "import matplotlib.pyplot as plt"
      ]
    },
    {
      "cell_type": "markdown",
      "source": [
        "Load and Inspect the Data"
      ],
      "metadata": {
        "id": "Xu4Lqq97MY54"
      }
    },
    {
      "cell_type": "code",
      "source": [
        "# Load your dataset\n",
        "df = pd.read_csv(\"district wise rainfall normal.csv\")"
      ],
      "metadata": {
        "id": "6fFEcQOjMECg"
      },
      "execution_count": 20,
      "outputs": []
    },
    {
      "cell_type": "code",
      "source": [
        "# Show first few rows\n",
        "print(\"\\n🔹 Sample Data:\")\n",
        "print(df.head())"
      ],
      "metadata": {
        "colab": {
          "base_uri": "https://localhost:8080/"
        },
        "id": "MU_ltGgWMKRg",
        "outputId": "8b95f713-7aac-4d72-b7f7-8888d921186a"
      },
      "execution_count": 21,
      "outputs": [
        {
          "output_type": "stream",
          "name": "stdout",
          "text": [
            "\n",
            "🔹 Sample Data:\n",
            "                 STATE_UT_NAME       DISTRICT    JAN   FEB    MAR    APR  \\\n",
            "0  ANDAMAN And NICOBAR ISLANDS        NICOBAR  107.3  57.9   65.2  117.0   \n",
            "1  ANDAMAN And NICOBAR ISLANDS  SOUTH ANDAMAN   43.7  26.0   18.6   90.5   \n",
            "2  ANDAMAN And NICOBAR ISLANDS  N & M ANDAMAN   32.7  15.9    8.6   53.4   \n",
            "3            ARUNACHAL PRADESH          LOHIT   42.2  80.8  176.4  358.5   \n",
            "4            ARUNACHAL PRADESH     EAST SIANG   33.3  79.5  105.9  216.5   \n",
            "\n",
            "     MAY    JUN    JUL    AUG    SEP    OCT    NOV    DEC  ANNUAL  Jan-Feb  \\\n",
            "0  358.5  295.5  285.0  271.9  354.8  326.0  315.2  250.9  2805.2    165.2   \n",
            "1  374.4  457.2  421.3  423.1  455.6  301.2  275.8  128.3  3015.7     69.7   \n",
            "2  343.6  503.3  465.4  460.9  454.8  276.1  198.6  100.0  2913.3     48.6   \n",
            "3  306.4  447.0  660.1  427.8  313.6  167.1   34.1   29.8  3043.8    123.0   \n",
            "4  323.0  738.3  990.9  711.2  568.0  206.9   29.5   31.7  4034.7    112.8   \n",
            "\n",
            "   Mar-May  Jun-Sep  Oct-Dec  \n",
            "0    540.7   1207.2    892.1  \n",
            "1    483.5   1757.2    705.3  \n",
            "2    405.6   1884.4    574.7  \n",
            "3    841.3   1848.5    231.0  \n",
            "4    645.4   3008.4    268.1  \n"
          ]
        }
      ]
    },
    {
      "cell_type": "code",
      "source": [
        "# Column info and data types\n",
        "print(\"\\n🔹 Data Info:\")\n",
        "print(df.info())"
      ],
      "metadata": {
        "colab": {
          "base_uri": "https://localhost:8080/"
        },
        "id": "KLHBOy3nMOE9",
        "outputId": "88cfc159-bc59-4c62-b230-afaaae6259fb"
      },
      "execution_count": 22,
      "outputs": [
        {
          "output_type": "stream",
          "name": "stdout",
          "text": [
            "\n",
            "🔹 Data Info:\n",
            "<class 'pandas.core.frame.DataFrame'>\n",
            "RangeIndex: 641 entries, 0 to 640\n",
            "Data columns (total 19 columns):\n",
            " #   Column         Non-Null Count  Dtype  \n",
            "---  ------         --------------  -----  \n",
            " 0   STATE_UT_NAME  641 non-null    object \n",
            " 1   DISTRICT       641 non-null    object \n",
            " 2   JAN            641 non-null    float64\n",
            " 3   FEB            641 non-null    float64\n",
            " 4   MAR            641 non-null    float64\n",
            " 5   APR            641 non-null    float64\n",
            " 6   MAY            641 non-null    float64\n",
            " 7   JUN            641 non-null    float64\n",
            " 8   JUL            641 non-null    float64\n",
            " 9   AUG            641 non-null    float64\n",
            " 10  SEP            641 non-null    float64\n",
            " 11  OCT            641 non-null    float64\n",
            " 12  NOV            641 non-null    float64\n",
            " 13  DEC            641 non-null    float64\n",
            " 14  ANNUAL         641 non-null    float64\n",
            " 15  Jan-Feb        641 non-null    float64\n",
            " 16  Mar-May        641 non-null    float64\n",
            " 17  Jun-Sep        641 non-null    float64\n",
            " 18  Oct-Dec        641 non-null    float64\n",
            "dtypes: float64(17), object(2)\n",
            "memory usage: 95.3+ KB\n",
            "None\n"
          ]
        }
      ]
    },
    {
      "cell_type": "code",
      "source": [
        "# Summary statistics\n",
        "print(\"\\n🔹 Summary Stats:\")\n",
        "print(df.describe())"
      ],
      "metadata": {
        "colab": {
          "base_uri": "https://localhost:8080/"
        },
        "id": "fCDMbqTvMRDQ",
        "outputId": "5e399bcc-1ace-410b-8e72-d4ea5ee2fa7f"
      },
      "execution_count": 23,
      "outputs": [
        {
          "output_type": "stream",
          "name": "stdout",
          "text": [
            "\n",
            "🔹 Summary Stats:\n",
            "              JAN         FEB         MAR         APR         MAY  \\\n",
            "count  641.000000  641.000000  641.000000  641.000000  641.000000   \n",
            "mean    18.355070   20.984399   30.034789   45.543214   81.535101   \n",
            "std     21.082806   27.729596   45.451082   71.556279  111.960390   \n",
            "min      0.000000    0.000000    0.000000    0.000000    0.900000   \n",
            "25%      6.900000    7.000000    7.000000    5.000000   12.100000   \n",
            "50%     13.300000   12.300000   12.700000   15.100000   33.900000   \n",
            "75%     19.200000   24.100000   33.200000   48.300000   91.900000   \n",
            "max    144.500000  229.600000  367.900000  554.400000  733.700000   \n",
            "\n",
            "               JUN          JUL          AUG         SEP         OCT  \\\n",
            "count   641.000000   641.000000   641.000000  641.000000  641.000000   \n",
            "mean    196.007332   326.033697   291.152262  194.609048   90.446334   \n",
            "std     196.556284   221.364643   152.647325   99.830540   74.990685   \n",
            "min       3.800000    11.600000    14.100000    8.600000    3.100000   \n",
            "25%      68.800000   206.400000   194.600000  128.800000   34.300000   \n",
            "50%     131.900000   293.700000   284.800000  181.300000   62.600000   \n",
            "75%     226.600000   374.800000   358.100000  234.100000  130.200000   \n",
            "max    1476.200000  1820.900000  1522.100000  826.300000  517.700000   \n",
            "\n",
            "              NOV         DEC       ANNUAL     Jan-Feb      Mar-May  \\\n",
            "count  641.000000  641.000000   641.000000  641.000000   641.000000   \n",
            "mean    34.117473   18.150858  1346.969579   39.339470   157.113105   \n",
            "std     59.371274   32.711009   838.878874   47.212773   213.445888   \n",
            "min      1.200000    0.000000    94.600000    0.000000     1.500000   \n",
            "25%      6.600000    5.300000   830.400000   14.700000    27.800000   \n",
            "50%     12.900000    7.900000  1116.200000   27.700000    67.200000   \n",
            "75%     32.300000   14.900000  1530.900000   41.100000   172.400000   \n",
            "max    475.100000  297.700000  7229.300000  335.300000  1256.500000   \n",
            "\n",
            "          Jun-Sep      Oct-Dec  \n",
            "count   641.00000   641.000000  \n",
            "mean   1007.80234   142.714665  \n",
            "std     629.33261   148.951752  \n",
            "min      39.60000     5.600000  \n",
            "25%     625.40000    51.600000  \n",
            "50%     896.60000    86.700000  \n",
            "75%    1193.80000   175.200000  \n",
            "max    5228.00000  1048.500000  \n"
          ]
        }
      ]
    },
    {
      "cell_type": "code",
      "source": [
        "# Null values\n",
        "print(\"\\n🔹 Missing Values:\")\n",
        "print(df.isnull().sum())"
      ],
      "metadata": {
        "colab": {
          "base_uri": "https://localhost:8080/"
        },
        "id": "pkmjsABmMUVC",
        "outputId": "b71486dc-93a6-4bbe-cd5a-8c6fb5866434"
      },
      "execution_count": 24,
      "outputs": [
        {
          "output_type": "stream",
          "name": "stdout",
          "text": [
            "\n",
            "🔹 Missing Values:\n",
            "STATE_UT_NAME    0\n",
            "DISTRICT         0\n",
            "JAN              0\n",
            "FEB              0\n",
            "MAR              0\n",
            "APR              0\n",
            "MAY              0\n",
            "JUN              0\n",
            "JUL              0\n",
            "AUG              0\n",
            "SEP              0\n",
            "OCT              0\n",
            "NOV              0\n",
            "DEC              0\n",
            "ANNUAL           0\n",
            "Jan-Feb          0\n",
            "Mar-May          0\n",
            "Jun-Sep          0\n",
            "Oct-Dec          0\n",
            "dtype: int64\n"
          ]
        }
      ]
    },
    {
      "cell_type": "markdown",
      "source": [
        "Preprocessing"
      ],
      "metadata": {
        "id": "SEwmNmfYMiFM"
      }
    },
    {
      "cell_type": "code",
      "source": [
        "# Step 1: Handle Missing Values\n",
        "# Fill missing values with column-wise mean (can change to median or KNN if needed)\n",
        "df.fillna(df.mean(numeric_only=True), inplace=True)"
      ],
      "metadata": {
        "id": "qTeo1eAwMja2"
      },
      "execution_count": 25,
      "outputs": []
    },
    {
      "cell_type": "code",
      "source": [
        "# Optional: Confirm no nulls remain\n",
        "print(\"\\n🔹 Missing Values After Imputation:\")\n",
        "print(df.isnull().sum())"
      ],
      "metadata": {
        "colab": {
          "base_uri": "https://localhost:8080/"
        },
        "id": "c-PlZeX1Mtv_",
        "outputId": "58409f09-4f31-49e5-ba7f-566dc88e8b2b"
      },
      "execution_count": 26,
      "outputs": [
        {
          "output_type": "stream",
          "name": "stdout",
          "text": [
            "\n",
            "🔹 Missing Values After Imputation:\n",
            "STATE_UT_NAME    0\n",
            "DISTRICT         0\n",
            "JAN              0\n",
            "FEB              0\n",
            "MAR              0\n",
            "APR              0\n",
            "MAY              0\n",
            "JUN              0\n",
            "JUL              0\n",
            "AUG              0\n",
            "SEP              0\n",
            "OCT              0\n",
            "NOV              0\n",
            "DEC              0\n",
            "ANNUAL           0\n",
            "Jan-Feb          0\n",
            "Mar-May          0\n",
            "Jun-Sep          0\n",
            "Oct-Dec          0\n",
            "dtype: int64\n"
          ]
        }
      ]
    },
    {
      "cell_type": "code",
      "source": [
        "# Step 2: Outlier Detection (IQR method)\n",
        "# Define a function to detect outliers\n",
        "def detect_outliers_iqr(data, columns):\n",
        "    outliers = {}\n",
        "    for col in columns:\n",
        "        Q1 = data[col].quantile(0.25)\n",
        "        Q3 = data[col].quantile(0.75)\n",
        "        IQR = Q3 - Q1\n",
        "        lower_bound = Q1 - 1.5 * IQR\n",
        "        upper_bound = Q3 + 1.5 * IQR\n",
        "        outliers[col] = data[(data[col] < lower_bound) | (data[col] > upper_bound)].shape[0]\n",
        "    return outliers\n",
        "\n",
        "monthly_columns = ['JAN', 'FEB', 'MAR', 'APR', 'MAY', 'JUN',\n",
        "                   'JUL', 'AUG', 'SEP', 'OCT', 'NOV', 'DEC', 'ANNUAL']"
      ],
      "metadata": {
        "id": "EEzGYI1IMzmg"
      },
      "execution_count": 27,
      "outputs": []
    },
    {
      "cell_type": "code",
      "source": [
        "# Check how many outliers are in each column\n",
        "outliers_found = detect_outliers_iqr(df, monthly_columns)\n",
        "print(\"\\n🔹 Outliers per column (based on IQR):\")\n",
        "print(outliers_found)"
      ],
      "metadata": {
        "colab": {
          "base_uri": "https://localhost:8080/"
        },
        "id": "FRlmJPPMM3xL",
        "outputId": "915342ca-ebe8-449c-9463-2932fc1dd299"
      },
      "execution_count": 28,
      "outputs": [
        {
          "output_type": "stream",
          "name": "stdout",
          "text": [
            "\n",
            "🔹 Outliers per column (based on IQR):\n",
            "{'JAN': 71, 'FEB': 59, 'MAR': 70, 'APR': 93, 'MAY': 88, 'JUN': 66, 'JUL': 48, 'AUG': 24, 'SEP': 27, 'OCT': 16, 'NOV': 67, 'DEC': 86, 'ANNUAL': 61}\n"
          ]
        }
      ]
    },
    {
      "cell_type": "code",
      "source": [
        "df_cleaned = df.drop(columns=['STATE', 'DISTRICT'], errors='ignore')\n",
        "\n",
        "print(\"\\n✅ Preprocessing complete. Proceeding with cleaned data.\")"
      ],
      "metadata": {
        "colab": {
          "base_uri": "https://localhost:8080/"
        },
        "id": "avUiQjHeNGGz",
        "outputId": "f743808a-6cd4-472b-dfbd-0200c60f52f9"
      },
      "execution_count": 30,
      "outputs": [
        {
          "output_type": "stream",
          "name": "stdout",
          "text": [
            "\n",
            "✅ Preprocessing complete. Proceeding with cleaned data.\n"
          ]
        }
      ]
    },
    {
      "cell_type": "markdown",
      "source": [
        "Feature Engineering"
      ],
      "metadata": {
        "id": "DpZylOHNOjeu"
      }
    },
    {
      "cell_type": "code",
      "source": [
        "# 1. Seasonal Aggregates\n",
        "df_cleaned['PreMonsoon'] = df_cleaned[['MAR', 'APR', 'MAY']].sum(axis=1)\n",
        "df_cleaned['Monsoon'] = df_cleaned[['JUN', 'JUL', 'AUG', 'SEP']].sum(axis=1)\n",
        "df_cleaned['PostMonsoon'] = df_cleaned[['OCT', 'NOV', 'DEC']].sum(axis=1)\n",
        "df_cleaned['Winter'] = df_cleaned[['JAN', 'FEB']].sum(axis=1)"
      ],
      "metadata": {
        "id": "J7n4HG3fOkYz"
      },
      "execution_count": 31,
      "outputs": []
    },
    {
      "cell_type": "code",
      "source": [
        "# 2. Rainfall Variability (Standard Deviation across months)\n",
        "df_cleaned['Rainfall_STD'] = df_cleaned[['JAN', 'FEB', 'MAR', 'APR', 'MAY', 'JUN',\n",
        "                                          'JUL', 'AUG', 'SEP', 'OCT', 'NOV', 'DEC']].std(axis=1)"
      ],
      "metadata": {
        "id": "kgh_xDzxOvjf"
      },
      "execution_count": 32,
      "outputs": []
    },
    {
      "cell_type": "code",
      "source": [
        "# 3. Max Rainfall Month Index (0 = Jan, ..., 11 = Dec)\n",
        "df_cleaned['MaxRainMonth'] = df_cleaned[['JAN', 'FEB', 'MAR', 'APR', 'MAY', 'JUN',\n",
        "                                          'JUL', 'AUG', 'SEP', 'OCT', 'NOV', 'DEC']].idxmax(axis=1)"
      ],
      "metadata": {
        "id": "IVX0WJu4Oy9c"
      },
      "execution_count": 33,
      "outputs": []
    },
    {
      "cell_type": "code",
      "source": [
        "# Optionally: convert month names to numeric indices (Jan=1 to Dec=12)\n",
        "month_map = {'JAN': 1, 'FEB': 2, 'MAR': 3, 'APR': 4, 'MAY': 5, 'JUN': 6,\n",
        "             'JUL': 7, 'AUG': 8, 'SEP': 9, 'OCT': 10, 'NOV': 11, 'DEC': 12}\n",
        "df_cleaned['MaxRainMonth'] = df_cleaned['MaxRainMonth'].map(month_map)\n"
      ],
      "metadata": {
        "id": "CvBH2OD3O2eW"
      },
      "execution_count": 34,
      "outputs": []
    },
    {
      "cell_type": "code",
      "source": [
        "print(\"\\n✅ Feature engineering complete. New columns added:\")\n",
        "print(df_cleaned[['PreMonsoon', 'Monsoon', 'PostMonsoon', 'Winter', 'Rainfall_STD', 'MaxRainMonth']].head())"
      ],
      "metadata": {
        "colab": {
          "base_uri": "https://localhost:8080/"
        },
        "id": "sqU3xGYpO6TA",
        "outputId": "c7ee8fbf-c610-43e6-cae0-b0906af0755a"
      },
      "execution_count": 35,
      "outputs": [
        {
          "output_type": "stream",
          "name": "stdout",
          "text": [
            "\n",
            "✅ Feature engineering complete. New columns added:\n",
            "   PreMonsoon  Monsoon  PostMonsoon  Winter  Rainfall_STD  MaxRainMonth\n",
            "0       540.7   1207.2        892.1   165.2    113.818630             5\n",
            "1       483.5   1757.2        705.3    69.7    178.321770             6\n",
            "2       405.6   1884.4        574.7    48.6    197.687826             6\n",
            "3       841.3   1848.5        231.0   123.0    199.235322             7\n",
            "4       645.4   3008.4        268.1   112.8    332.122661             7\n"
          ]
        }
      ]
    },
    {
      "cell_type": "markdown",
      "source": [
        "Feature Selection + Train-Test Split"
      ],
      "metadata": {
        "id": "7n1cm5A3PHnl"
      }
    },
    {
      "cell_type": "code",
      "source": [
        "# 1. Define features and target\n",
        "feature_cols = ['JAN', 'FEB', 'MAR', 'APR', 'MAY', 'JUN',\n",
        "                'JUL', 'AUG', 'SEP', 'OCT', 'NOV', 'DEC',\n",
        "                'PreMonsoon', 'Monsoon', 'PostMonsoon', 'Winter',\n",
        "                'Rainfall_STD', 'MaxRainMonth']\n",
        "\n",
        "X = df_cleaned[feature_cols]\n",
        "y = df_cleaned['ANNUAL']\n"
      ],
      "metadata": {
        "id": "V1B7SAb5PIZ_"
      },
      "execution_count": 36,
      "outputs": []
    },
    {
      "cell_type": "code",
      "source": [
        "# 2. Train-test split\n",
        "X_train, X_test, y_train, y_test = train_test_split(\n",
        "    X, y, test_size=0.2, random_state=42\n",
        ")\n",
        "\n",
        "print(f\"\\n✅ Data split complete: {X_train.shape[0]} training rows, {X_test.shape[0]} test rows.\")\n"
      ],
      "metadata": {
        "colab": {
          "base_uri": "https://localhost:8080/"
        },
        "id": "LzGM-pawPOnF",
        "outputId": "df4db735-7769-4215-bbee-a702d8177a68"
      },
      "execution_count": 37,
      "outputs": [
        {
          "output_type": "stream",
          "name": "stdout",
          "text": [
            "\n",
            "✅ Data split complete: 512 training rows, 129 test rows.\n"
          ]
        }
      ]
    },
    {
      "cell_type": "markdown",
      "source": [
        "Train Multiple Models & Compare Performance"
      ],
      "metadata": {
        "id": "q03SEnXFPVjL"
      }
    },
    {
      "cell_type": "markdown",
      "source": [
        "We'll train:\n",
        "\n",
        "Linear Regression (baseline)\n",
        "\n",
        "Random Forest Regressor\n",
        "\n",
        "XGBoost Regressor\n",
        "\n",
        "Then we’ll evaluate each using:\n",
        "\n",
        "MAE (Mean Absolute Error)\n",
        "\n",
        "RMSE (Root Mean Square Error)\n",
        "\n",
        "R² Score (explained variance)"
      ],
      "metadata": {
        "id": "PbxrdntkPaZd"
      }
    },
    {
      "cell_type": "code",
      "source": [
        "# Initialize models\n",
        "models = {\n",
        "    \"Linear Regression\": LinearRegression(),\n",
        "    \"Random Forest\": RandomForestRegressor(random_state=42),\n",
        "    \"XGBoost\": XGBRegressor(objective='reg:squarederror', random_state=42)\n",
        "}"
      ],
      "metadata": {
        "id": "DABCszO5PWbT"
      },
      "execution_count": 38,
      "outputs": []
    },
    {
      "cell_type": "code",
      "source": [
        "# Dictionary to store evaluation results\n",
        "results = {}\n",
        "predictions = {}"
      ],
      "metadata": {
        "id": "truwdK6XPvrg"
      },
      "execution_count": 39,
      "outputs": []
    },
    {
      "cell_type": "code",
      "source": [
        "# Train and evaluate each model\n",
        "for name, model in models.items():\n",
        "    model.fit(X_train, y_train)\n",
        "    y_pred = model.predict(X_test)\n",
        "    predictions[name] = y_pred\n",
        "    results[name] = {\n",
        "        \"MAE\": mean_absolute_error(y_test, y_pred),\n",
        "        \"RMSE\": np.sqrt(mean_squared_error(y_test, y_pred)),\n",
        "        \"R2\": r2_score(y_test, y_pred)\n",
        "    }\n"
      ],
      "metadata": {
        "id": "59NFBwbuPy-G"
      },
      "execution_count": 40,
      "outputs": []
    },
    {
      "cell_type": "code",
      "source": [
        "# Show performance comparison\n",
        "print(\"\\n📊 Model Performance:\")\n",
        "for model_name, metrics in results.items():\n",
        "    print(f\"\\n🔸 {model_name}\")\n",
        "    for metric, value in metrics.items():\n",
        "        print(f\"{metric}: {value:.2f}\")"
      ],
      "metadata": {
        "colab": {
          "base_uri": "https://localhost:8080/"
        },
        "id": "xBIc33lDP31K",
        "outputId": "5d28c86e-8ca6-4579-d10f-67b9b0de75e2"
      },
      "execution_count": 41,
      "outputs": [
        {
          "output_type": "stream",
          "name": "stdout",
          "text": [
            "\n",
            "📊 Model Performance:\n",
            "\n",
            "🔸 Linear Regression\n",
            "MAE: 0.00\n",
            "RMSE: 0.00\n",
            "R2: 1.00\n",
            "\n",
            "🔸 Random Forest\n",
            "MAE: 63.22\n",
            "RMSE: 150.89\n",
            "R2: 0.97\n",
            "\n",
            "🔸 XGBoost\n",
            "MAE: 61.24\n",
            "RMSE: 114.33\n",
            "R2: 0.99\n"
          ]
        }
      ]
    },
    {
      "cell_type": "markdown",
      "source": [
        "Plot Actual vs Predicted Rainfall"
      ],
      "metadata": {
        "id": "AnCE3g36QHUO"
      }
    },
    {
      "cell_type": "code",
      "source": [
        "plt.figure(figsize=(18, 5))\n",
        "\n",
        "for idx, (name, y_pred) in enumerate(predictions.items(), 1):\n",
        "    plt.subplot(1, 3, idx)\n",
        "    plt.scatter(y_test, y_pred, alpha=0.6, edgecolors='k')\n",
        "    plt.plot([y_test.min(), y_test.max()], [y_test.min(), y_test.max()], '--r')  # perfect prediction line\n",
        "    plt.xlabel(\"Actual Annual Rainfall\")\n",
        "    plt.ylabel(\"Predicted Rainfall\")\n",
        "    plt.title(name)\n",
        "    plt.grid(True)\n",
        "\n",
        "plt.tight_layout()\n",
        "plt.suptitle(\"Actual vs Predicted Rainfall by Model\", fontsize=16, y=1.05)\n",
        "plt.show()"
      ],
      "metadata": {
        "colab": {
          "base_uri": "https://localhost:8080/",
          "height": 318
        },
        "id": "ctJc31_9QIIA",
        "outputId": "ebcb8c58-ae07-48c8-bf74-88276e700310"
      },
      "execution_count": 42,
      "outputs": [
        {
          "output_type": "display_data",
          "data": {
            "text/plain": [
              "<Figure size 1800x500 with 3 Axes>"
            ],
            "image/png": "[encoded data removed]"
          },
          "metadata": {}
        }
      ]
    },
    {
      "cell_type": "markdown",
      "source": [
        "Save the Best Model for Future Use"
      ],
      "metadata": {
        "id": "jxL2DLVhQYwZ"
      }
    },
    {
      "cell_type": "code",
      "source": [
        "# Step 1: best model\n",
        "best_model = models['Linear Regression']"
      ],
      "metadata": {
        "id": "NwgOxrDUQYat"
      },
      "execution_count": 44,
      "outputs": []
    },
    {
      "cell_type": "code",
      "source": [
        "# Step 2: Save the model\n",
        "joblib.dump(best_model, \"rainfall_predictor_model.pkl\")\n",
        "\n",
        "print(\"\\n✅ Model saved successfully as rainfall_predictor_model.pkl\")"
      ],
      "metadata": {
        "colab": {
          "base_uri": "https://localhost:8080/"
        },
        "id": "_-AOKqEeQw_G",
        "outputId": "b4ef6e22-d26d-40e2-adc2-69e3b19f83f9"
      },
      "execution_count": 46,
      "outputs": [
        {
          "output_type": "stream",
          "name": "stdout",
          "text": [
            "\n",
            "✅ Model saved successfully as rainfall_predictor_model.pkl\n"
          ]
        }
      ]
    },
    {
      "cell_type": "markdown",
      "source": [
        " Predict Annual Rainfall from User Input\n",
        "\n",
        "1. Loads your saved model\n",
        "\n",
        "2. Accepts monthly rainfall as input\n",
        "\n",
        "3. Applies the same feature engineering\n",
        "\n",
        "4. Predicts the annual rainfall"
      ],
      "metadata": {
        "id": "3GPevkTnRB1D"
      }
    },
    {
      "cell_type": "code",
      "source": [
        "# Load the saved model\n",
        "model = joblib.load(\"rainfall_predictor_model.pkl\")"
      ],
      "metadata": {
        "id": "ujwPtBT_RAbt"
      },
      "execution_count": 47,
      "outputs": []
    },
    {
      "cell_type": "code",
      "source": [
        "# Get user input (you can replace this with actual input or form values)\n",
        "user_input = {\n",
        "    'JAN': 12, 'FEB': 8, 'MAR': 15, 'APR': 35, 'MAY': 40, 'JUN': 200,\n",
        "    'JUL': 250, 'AUG': 210, 'SEP': 160, 'OCT': 90, 'NOV': 40, 'DEC': 20\n",
        "}"
      ],
      "metadata": {
        "id": "jrVs2XAeRgCh"
      },
      "execution_count": 48,
      "outputs": []
    },
    {
      "cell_type": "code",
      "source": [
        "# Convert to DataFrame\n",
        "df_input = pd.DataFrame([user_input])"
      ],
      "metadata": {
        "id": "IiHOAZTiRjG1"
      },
      "execution_count": 49,
      "outputs": []
    },
    {
      "cell_type": "code",
      "source": [
        "# Feature Engineering (must match training time)\n",
        "df_input['PreMonsoon'] = df_input[['MAR', 'APR', 'MAY']].sum(axis=1)\n",
        "df_input['Monsoon'] = df_input[['JUN', 'JUL', 'AUG', 'SEP']].sum(axis=1)\n",
        "df_input['PostMonsoon'] = df_input[['OCT', 'NOV', 'DEC']].sum(axis=1)\n",
        "df_input['Winter'] = df_input[['JAN', 'FEB']].sum(axis=1)\n",
        "df_input['Rainfall_STD'] = df_input[['JAN', 'FEB', 'MAR', 'APR', 'MAY', 'JUN',\n",
        "                                     'JUL', 'AUG', 'SEP', 'OCT', 'NOV', 'DEC']].std(axis=1)\n",
        "df_input['MaxRainMonth'] = df_input[['JAN', 'FEB', 'MAR', 'APR', 'MAY', 'JUN',\n",
        "                                     'JUL', 'AUG', 'SEP', 'OCT', 'NOV', 'DEC']].idxmax(axis=1)\n"
      ],
      "metadata": {
        "id": "VvzJ5WKvRmq4"
      },
      "execution_count": 50,
      "outputs": []
    },
    {
      "cell_type": "code",
      "source": [
        "# Convert month name to number (Jan=1 to Dec=12)\n",
        "month_map = {'JAN': 1, 'FEB': 2, 'MAR': 3, 'APR': 4, 'MAY': 5, 'JUN': 6,\n",
        "             'JUL': 7, 'AUG': 8, 'SEP': 9, 'OCT': 10, 'NOV': 11, 'DEC': 12}\n",
        "df_input['MaxRainMonth'] = df_input['MaxRainMonth'].map(month_map)\n"
      ],
      "metadata": {
        "id": "-eIRtnTRRpqD"
      },
      "execution_count": 51,
      "outputs": []
    },
    {
      "cell_type": "code",
      "source": [
        "# Final columns used for prediction\n",
        "features_used = ['JAN', 'FEB', 'MAR', 'APR', 'MAY', 'JUN',\n",
        "                 'JUL', 'AUG', 'SEP', 'OCT', 'NOV', 'DEC',\n",
        "                 'PreMonsoon', 'Monsoon', 'PostMonsoon', 'Winter',\n",
        "                 'Rainfall_STD', 'MaxRainMonth']\n"
      ],
      "metadata": {
        "id": "xuYlYuQVRsoR"
      },
      "execution_count": 52,
      "outputs": []
    },
    {
      "cell_type": "code",
      "source": [
        "# Predict\n",
        "predicted_annual = model.predict(df_input[features_used])[0]\n",
        "print(f\"\\n🌧️ Predicted Annual Rainfall: {predicted_annual:.2f} mm\")"
      ],
      "metadata": {
        "colab": {
          "base_uri": "https://localhost:8080/"
        },
        "id": "sHjfyO2VRvvp",
        "outputId": "f7223e19-6bfb-47c6-aa04-c3616bacf613"
      },
      "execution_count": 53,
      "outputs": [
        {
          "output_type": "stream",
          "name": "stdout",
          "text": [
            "\n",
            "🌧️ Predicted Annual Rainfall: 1080.00 mm\n"
          ]
        }
      ]
    }
  ]
}